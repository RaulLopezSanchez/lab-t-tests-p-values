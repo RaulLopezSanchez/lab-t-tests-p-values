{
 "cells": [
  {
   "cell_type": "code",
   "execution_count": 2,
   "id": "2328c81a",
   "metadata": {},
   "outputs": [
    {
     "name": "stdout",
     "output_type": "stream",
     "text": [
      "Requirement already satisfied: numpy in c:\\users\\raull\\anaconda3\\lib\\site-packages (1.21.5)\n",
      "Requirement already satisfied: scipy in c:\\users\\raull\\anaconda3\\lib\\site-packages (1.9.1)\n",
      "Note: you may need to restart the kernel to use updated packages.\n"
     ]
    }
   ],
   "source": [
    "pip install numpy scipy"
   ]
  },
  {
   "cell_type": "code",
   "execution_count": 6,
   "id": "abd6d90d",
   "metadata": {},
   "outputs": [
    {
     "ename": "ValueError",
     "evalue": "Some errors were detected !\n    Line #2 (got 1 columns instead of 2)\n    Line #4 (got 1 columns instead of 2)\n    Line #6 (got 1 columns instead of 2)\n    Line #8 (got 1 columns instead of 2)\n    Line #10 (got 1 columns instead of 2)\n    Line #12 (got 1 columns instead of 2)\n    Line #14 (got 1 columns instead of 2)\n    Line #16 (got 1 columns instead of 2)\n    Line #18 (got 1 columns instead of 2)\n    Line #20 (got 1 columns instead of 2)\n    Line #22 (got 1 columns instead of 2)\n    Line #23 (got 1 columns instead of 2)",
     "output_type": "error",
     "traceback": [
      "\u001b[1;31m---------------------------------------------------------------------------\u001b[0m",
      "\u001b[1;31mValueError\u001b[0m                                Traceback (most recent call last)",
      "\u001b[1;32m~\\AppData\\Local\\Temp\\ipykernel_7808\\3721484384.py\u001b[0m in \u001b[0;36m<module>\u001b[1;34m\u001b[0m\n\u001b[0;32m      3\u001b[0m \u001b[1;33m\u001b[0m\u001b[0m\n\u001b[0;32m      4\u001b[0m \u001b[1;31m# Cargar los datos desde el archivo\u001b[0m\u001b[1;33m\u001b[0m\u001b[1;33m\u001b[0m\u001b[0m\n\u001b[1;32m----> 5\u001b[1;33m \u001b[0mdata\u001b[0m \u001b[1;33m=\u001b[0m \u001b[0mnp\u001b[0m\u001b[1;33m.\u001b[0m\u001b[0mgenfromtxt\u001b[0m\u001b[1;33m(\u001b[0m\u001b[1;34m'files_for_lab/machine.txt'\u001b[0m\u001b[1;33m,\u001b[0m \u001b[0mdelimiter\u001b[0m\u001b[1;33m=\u001b[0m\u001b[1;34m'\\t'\u001b[0m\u001b[1;33m)\u001b[0m\u001b[1;33m\u001b[0m\u001b[1;33m\u001b[0m\u001b[0m\n\u001b[0m\u001b[0;32m      6\u001b[0m \u001b[1;33m\u001b[0m\u001b[0m\n\u001b[0;32m      7\u001b[0m \u001b[1;31m# Separar los datos para las dos máquinas\u001b[0m\u001b[1;33m\u001b[0m\u001b[1;33m\u001b[0m\u001b[0m\n",
      "\u001b[1;32m~\\anaconda3\\lib\\site-packages\\numpy\\lib\\npyio.py\u001b[0m in \u001b[0;36mgenfromtxt\u001b[1;34m(fname, dtype, comments, delimiter, skip_header, skip_footer, converters, missing_values, filling_values, usecols, names, excludelist, deletechars, replace_space, autostrip, case_sensitive, defaultfmt, unpack, usemask, loose, invalid_raise, max_rows, encoding, like)\u001b[0m\n\u001b[0;32m   2122\u001b[0m             \u001b[1;31m# Raise an exception ?\u001b[0m\u001b[1;33m\u001b[0m\u001b[1;33m\u001b[0m\u001b[0m\n\u001b[0;32m   2123\u001b[0m             \u001b[1;32mif\u001b[0m \u001b[0minvalid_raise\u001b[0m\u001b[1;33m:\u001b[0m\u001b[1;33m\u001b[0m\u001b[1;33m\u001b[0m\u001b[0m\n\u001b[1;32m-> 2124\u001b[1;33m                 \u001b[1;32mraise\u001b[0m \u001b[0mValueError\u001b[0m\u001b[1;33m(\u001b[0m\u001b[0merrmsg\u001b[0m\u001b[1;33m)\u001b[0m\u001b[1;33m\u001b[0m\u001b[1;33m\u001b[0m\u001b[0m\n\u001b[0m\u001b[0;32m   2125\u001b[0m             \u001b[1;31m# Issue a warning ?\u001b[0m\u001b[1;33m\u001b[0m\u001b[1;33m\u001b[0m\u001b[0m\n\u001b[0;32m   2126\u001b[0m             \u001b[1;32melse\u001b[0m\u001b[1;33m:\u001b[0m\u001b[1;33m\u001b[0m\u001b[1;33m\u001b[0m\u001b[0m\n",
      "\u001b[1;31mValueError\u001b[0m: Some errors were detected !\n    Line #2 (got 1 columns instead of 2)\n    Line #4 (got 1 columns instead of 2)\n    Line #6 (got 1 columns instead of 2)\n    Line #8 (got 1 columns instead of 2)\n    Line #10 (got 1 columns instead of 2)\n    Line #12 (got 1 columns instead of 2)\n    Line #14 (got 1 columns instead of 2)\n    Line #16 (got 1 columns instead of 2)\n    Line #18 (got 1 columns instead of 2)\n    Line #20 (got 1 columns instead of 2)\n    Line #22 (got 1 columns instead of 2)\n    Line #23 (got 1 columns instead of 2)"
     ]
    }
   ],
   "source": [
    "import numpy as np\n",
    "from scipy import stats\n",
    "\n",
    "\n",
    "data = np.genfromtxt('files_for_lab/machine.txt', delimiter='\\t')\n",
    "\n",
    "\n",
    "maquina_antigua = data[:, 0]\n",
    "maquina_nueva = data[:, 1]\n",
    "\n",
    "\n",
    "estadistica_t, valor_p = stats.ttest_ind(maquina_nueva, maquina_antigua, alternative='less')\n",
    "\n",
    "alfa = 0.05\n",
    "\n",
    "if valor_p < alfa:\n",
    "    print(\"Los datos proporcionan suficiente evidencia para mostrar que la nueva máquina es más rápida que la máquina antigua.\")\n",
    "else:\n",
    "    print(\"No hay suficiente evidencia para concluir que la nueva máquina es más rápida que la máquina antigua.\")\n"
   ]
  },
  {
   "cell_type": "code",
   "execution_count": null,
   "id": "32e75e57",
   "metadata": {},
   "outputs": [],
   "source": []
  },
  {
   "cell_type": "code",
   "execution_count": null,
   "id": "874aa667",
   "metadata": {},
   "outputs": [],
   "source": []
  }
 ],
 "metadata": {
  "kernelspec": {
   "display_name": "Python 3 (ipykernel)",
   "language": "python",
   "name": "python3"
  },
  "language_info": {
   "codemirror_mode": {
    "name": "ipython",
    "version": 3
   },
   "file_extension": ".py",
   "mimetype": "text/x-python",
   "name": "python",
   "nbconvert_exporter": "python",
   "pygments_lexer": "ipython3",
   "version": "3.9.13"
  }
 },
 "nbformat": 4,
 "nbformat_minor": 5
}
